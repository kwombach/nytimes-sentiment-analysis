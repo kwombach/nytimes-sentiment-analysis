{
 "cells": [
  {
   "cell_type": "markdown",
   "metadata": {},
   "source": [
    "# Sentiment Analysis by Topic"
   ]
  },
  {
   "cell_type": "code",
   "execution_count": 4,
   "metadata": {},
   "outputs": [
    {
     "data": {
      "text/plain": [
       "(2047446, 5)"
      ]
     },
     "execution_count": 4,
     "metadata": {},
     "output_type": "execute_result"
    }
   ],
   "source": [
    "import sqlite3\n",
    "import pandas as pd\n",
    "\n",
    "con = sqlite3.connect('nytimes-comments.db')\n",
    "\n",
    "comments = pd.read_sql_query(\"SELECT commentID, commentBody, articleID, Polarity, newDesk FROM commentScore\", con)\n",
    "comments.set_index('articleID')\n",
    "comments['articleID'].astype(str)\n",
    "comments.shape"
   ]
  },
  {
   "cell_type": "code",
   "execution_count": 40,
   "metadata": {},
   "outputs": [
    {
     "data": {
      "text/plain": [
       "newDesk\n",
       "Arts&Leisure         6440\n",
       "Automobiles             7\n",
       "BookReview           2545\n",
       "Business            90316\n",
       "Climate              4502\n",
       "Culture             25074\n",
       "Dining              17559\n",
       "EdLife               2244\n",
       "Editorial          164135\n",
       "Express              1992\n",
       "Foreign            119464\n",
       "Games               22701\n",
       "Insider              6330\n",
       "Investigative        8826\n",
       "Learning            34413\n",
       "Letters              1258\n",
       "Magazine            42264\n",
       "Metro               25969\n",
       "Metropolitan         4917\n",
       "NYTNow                  7\n",
       "National           365496\n",
       "NewsDesk             1530\n",
       "Obits                2201\n",
       "OpEd               708667\n",
       "Photo                 222\n",
       "Podcasts              112\n",
       "Politics             6959\n",
       "RealEstate           7165\n",
       "Science             27812\n",
       "Smarter Living        761\n",
       "Society               132\n",
       "SpecialSections      1365\n",
       "Sports              21968\n",
       "Styles               7607\n",
       "Summary                39\n",
       "SundayBusiness       7044\n",
       "TStyle                192\n",
       "Travel               6382\n",
       "Unknown              5203\n",
       "Upshot              38006\n",
       "Video                 426\n",
       "Washington         175359\n",
       "Weekend              5051\n",
       "Well                28590\n",
       "Name: commentID, dtype: int64"
      ]
     },
     "execution_count": 40,
     "metadata": {},
     "output_type": "execute_result"
    }
   ],
   "source": [
    "df = comments.groupby('newDesk')['commentID'].nunique()\n",
    "df"
   ]
  },
  {
   "cell_type": "code",
   "execution_count": 5,
   "metadata": {},
   "outputs": [
    {
     "data": {
      "text/plain": [
       "{'Arts&Leisure': 813.5486149606854,\n",
       " 'Automobiles': 0.440535113035113,\n",
       " 'BookReview': 335.8176747381531,\n",
       " 'Business': 7154.400072231235,\n",
       " 'Climate': 347.01829281838394,\n",
       " 'Culture': 3258.3851247214807,\n",
       " 'Dining': 2857.5157036604314,\n",
       " 'EdLife': 261.8921412212244,\n",
       " 'Editorial': 10781.03177157727,\n",
       " 'Express': 151.72161471227218,\n",
       " 'Foreign': 7238.08393037253,\n",
       " 'Games': 3159.062887914156,\n",
       " 'Insider': 767.909300550191,\n",
       " 'Investigative': 597.3803531880515,\n",
       " 'Learning': 3175.605380424642,\n",
       " 'Letters': 108.63260618215816,\n",
       " 'Magazine': 4692.6449388775645,\n",
       " 'Metro': 2566.9117871312415,\n",
       " 'Metropolitan': 837.2518152554494,\n",
       " 'NYTNow': 1.8670370370370373,\n",
       " 'National': 23106.085697682443,\n",
       " 'NewsDesk': 219.70301737820364,\n",
       " 'Obits': 395.02861950224894,\n",
       " 'OpEd': 57386.63772705405,\n",
       " 'Photo': 61.11642157508463,\n",
       " 'Podcasts': 11.41562097601598,\n",
       " 'Politics': 537.153664100125,\n",
       " 'RealEstate': 941.491106311529,\n",
       " 'Science': 2927.971251504165,\n",
       " 'Smarter Living': 92.24755224949219,\n",
       " 'Society': 26.24763748896063,\n",
       " 'SpecialSections': 215.1943211463824,\n",
       " 'Sports': 2308.428526135775,\n",
       " 'Styles': 1600.4952332400428,\n",
       " 'Summary': 8.288076010420935,\n",
       " 'SundayBusiness': 711.2351075092009,\n",
       " 'TStyle': 39.387575975951144,\n",
       " 'Travel': 1122.323262277555,\n",
       " 'Unknown': 425.56105269108014,\n",
       " 'Upshot': 3421.0270058468577,\n",
       " 'Video': 45.20400180026256,\n",
       " 'Washington': 10241.063250736825,\n",
       " 'Weekend': 841.8311646915994,\n",
       " 'Well': 3483.075092841284}"
      ]
     },
     "execution_count": 5,
     "metadata": {},
     "output_type": "execute_result"
    }
   ],
   "source": [
    "catScore_dict = {}\n",
    "for index, row in comments.iterrows():\n",
    "    score = row['Polarity']\n",
    "    category = row['newDesk']\n",
    "    if not category in catScore_dict:\n",
    "        catScore_dict[category] = score\n",
    "    else:\n",
    "        catScore_dict[category] += score\n",
    "catScore_dict"
   ]
  },
  {
   "cell_type": "code",
   "execution_count": 42,
   "metadata": {},
   "outputs": [
    {
     "data": {
      "text/plain": [
       "{'Arts&Leisure': 0.12632742468333624,\n",
       " 'Automobiles': 0.062933587576444711,\n",
       " 'BookReview': 0.1319519350641073,\n",
       " 'Business': 0.079215200764330071,\n",
       " 'Climate': 0.077080917996087059,\n",
       " 'Culture': 0.12995075076659013,\n",
       " 'Dining': 0.16273795225584781,\n",
       " 'EdLife': 0.11670772781694491,\n",
       " 'Editorial': 0.06568392951885503,\n",
       " 'Express': 0.07616546923306837,\n",
       " 'Foreign': 0.060587992452726593,\n",
       " 'Games': 0.13915963560698452,\n",
       " 'Insider': 0.12131268571093065,\n",
       " 'Investigative': 0.067684155131209095,\n",
       " 'Learning': 0.092279236928621222,\n",
       " 'Letters': 0.086353423038281529,\n",
       " 'Magazine': 0.11103172768496983,\n",
       " 'Metro': 0.098845230356626804,\n",
       " 'Metropolitan': 0.17027696059700009,\n",
       " 'NYTNow': 0.26671957671957675,\n",
       " 'National': 0.063218436583936471,\n",
       " 'NewsDesk': 0.14359674338444683,\n",
       " 'Obits': 0.17947688300874554,\n",
       " 'OpEd': 0.08097828419702631,\n",
       " 'Photo': 0.27529919628416499,\n",
       " 'Podcasts': 0.10192518728585696,\n",
       " 'Politics': 0.077188340867958755,\n",
       " 'RealEstate': 0.13140141051102988,\n",
       " 'Science': 0.10527726346556038,\n",
       " 'Smarter Living': 0.12121885972338001,\n",
       " 'Society': 0.19884573855273205,\n",
       " 'SpecialSections': 0.15765151732335708,\n",
       " 'Sports': 0.10508141506444715,\n",
       " 'Styles': 0.21039769071119269,\n",
       " 'Summary': 0.21251476949797271,\n",
       " 'SundayBusiness': 0.10097034462084056,\n",
       " 'TStyle': 0.20514362487474555,\n",
       " 'Travel': 0.175857609256903,\n",
       " 'Unknown': 0.081791476588714232,\n",
       " 'Upshot': 0.090012813920087822,\n",
       " 'Video': 0.10611268028230648,\n",
       " 'Washington': 0.05840055686184812,\n",
       " 'Weekend': 0.16666623731767954,\n",
       " 'Well': 0.1218284397635986}"
      ]
     },
     "execution_count": 42,
     "metadata": {},
     "output_type": "execute_result"
    }
   ],
   "source": [
    "for key, value in catScore_dict.items():\n",
    "    catScore_dict[key] = value/df[key]\n",
    "catScore_dict"
   ]
  },
  {
   "cell_type": "code",
   "execution_count": 43,
   "metadata": {},
   "outputs": [
    {
     "data": {
      "image/png": "[encoded data removed]",
      "text/plain": [
       "<matplotlib.figure.Figure at 0x17bfc3828>"
      ]
     },
     "metadata": {},
     "output_type": "display_data"
    }
   ],
   "source": [
    "import matplotlib.pyplot as plt\n",
    "\n",
    "largest_keys = sorted(catScore_dict, key=catScore_dict.get, reverse=True)[:5]\n",
    "largest_values = sorted([catScore_dict[key] for key in largest_keys], reverse = True)\n",
    "\n",
    "plt.bar(largest_keys, largest_values)\n",
    "plt.show()"
   ]
  },
  {
   "cell_type": "code",
   "execution_count": 47,
   "metadata": {},
   "outputs": [
    {
     "data": {
      "image/png": "[encoded data removed]",
      "text/plain": [
       "<matplotlib.figure.Figure at 0x17ccb7550>"
      ]
     },
     "metadata": {},
     "output_type": "display_data"
    }
   ],
   "source": [
    "smallest_keys = sorted(catScore_dict, key=catScore_dict.get, reverse=False)[:5]\n",
    "smallest_values = sorted([catScore_dict[key] for key in smallest_keys], reverse = False)\n",
    "\n",
    "plt.bar(smallest_keys, smallest_values)\n",
    "plt.show()"
   ]
  },
  {
   "cell_type": "code",
   "execution_count": null,
   "metadata": {
    "collapsed": true
   },
   "outputs": [],
   "source": []
  }
 ],
 "metadata": {
  "kernelspec": {
   "display_name": "Python 3",
   "language": "python",
   "name": "python3"
  },
  "language_info": {
   "codemirror_mode": {
    "name": "ipython",
    "version": 3
   },
   "file_extension": ".py",
   "mimetype": "text/x-python",
   "name": "python",
   "nbconvert_exporter": "python",
   "pygments_lexer": "ipython3",
   "version": "3.6.3"
  }
 },
 "nbformat": 4,
 "nbformat_minor": 2
}
