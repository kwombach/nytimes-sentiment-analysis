{
 "cells": [
  {
   "cell_type": "markdown",
   "metadata": {},
   "source": [
    "# Creating A Database to hold our NYTimes-comments data\n",
    "\n",
    "Download zip file with the 18 .csv's from: https://www.kaggle.com/aashita/nyt-comments/data"
   ]
  },
  {
   "cell_type": "markdown",
   "metadata": {},
   "source": [
    "Split up the .csv's into 'comments' and 'articles' groups"
   ]
  },
  {
   "cell_type": "code",
   "execution_count": 1,
   "metadata": {
    "collapsed": true
   },
   "outputs": [],
   "source": [
    "import glob\n",
    "\n",
    "comments = glob.glob('nyt-comments/Comments*.csv')\n",
    "articles = glob.glob('nyt-comments/Articles*.csv')"
   ]
  },
  {
   "cell_type": "markdown",
   "metadata": {},
   "source": [
    "Concatenate the .csv's within each group (comment and article) together"
   ]
  },
  {
   "cell_type": "code",
   "execution_count": 2,
   "metadata": {},
   "outputs": [
    {
     "name": "stdout",
     "output_type": "stream",
     "text": [
      "(2047446, 34)\n",
      "(8699, 16)\n"
     ]
    }
   ],
   "source": [
    "import pandas as pd\n",
    "\n",
    "df = (pd.read_csv(f, dtype = str, header = 0) for f in comments)\n",
    "comments_df   = pd.concat(df, ignore_index=True)\n",
    "\n",
    "df = (pd.read_csv(f, dtype = str, header = 0) for f in articles)\n",
    "articles_df   = pd.concat(df, ignore_index=True)\n",
    "\n",
    "print(comments_df.shape)\n",
    "print(articles_df.shape)"
   ]
  },
  {
   "cell_type": "markdown",
   "metadata": {},
   "source": [
    "Create 'nytimes-comments' database and create a 'Comments' and a 'Articles' Table"
   ]
  },
  {
   "cell_type": "code",
   "execution_count": 3,
   "metadata": {
    "collapsed": true
   },
   "outputs": [],
   "source": [
    "import sqlite3\n",
    "\n",
    "con = sqlite3.connect('nytimes-comments.db')\n",
    "comments_df.to_sql('Comments', con, if_exists = 'replace')\n",
    "articles_df.to_sql('Articles', con, if_exists = 'replace')"
   ]
  },
  {
   "cell_type": "code",
   "execution_count": null,
   "metadata": {
    "collapsed": true
   },
   "outputs": [],
   "source": []
  }
 ],
 "metadata": {
  "kernelspec": {
   "display_name": "Python 3",
   "language": "python",
   "name": "python3"
  },
  "language_info": {
   "codemirror_mode": {
    "name": "ipython",
    "version": 3
   },
   "file_extension": ".py",
   "mimetype": "text/x-python",
   "name": "python",
   "nbconvert_exporter": "python",
   "pygments_lexer": "ipython3",
   "version": "3.6.3"
  }
 },
 "nbformat": 4,
 "nbformat_minor": 2
}
